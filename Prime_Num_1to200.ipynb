{
  "nbformat": 4,
  "nbformat_minor": 0,
  "metadata": {
    "colab": {
      "provenance": [],
      "collapsed_sections": [],
      "authorship_tag": "ABX9TyNLFQNC1UeHfgggcRlmLHmO",
      "include_colab_link": true
    },
    "kernelspec": {
      "name": "python3",
      "display_name": "Python 3"
    },
    "language_info": {
      "name": "python"
    }
  },
  "cells": [
    {
      "cell_type": "markdown",
      "metadata": {
        "id": "view-in-github",
        "colab_type": "text"
      },
      "source": [
        "<a href=\"https://colab.research.google.com/github/nikhil-tayade/Lets_Upgrade_Assignment-1/blob/main/Prime_Num_1to200.ipynb\" target=\"_parent\"><img src=\"https://colab.research.google.com/assets/colab-badge.svg\" alt=\"Open In Colab\"/></a>"
      ]
    },
    {
      "cell_type": "code",
      "execution_count": 6,
      "metadata": {
        "colab": {
          "base_uri": "https://localhost:8080/"
        },
        "id": "U0UiStls0AIZ",
        "outputId": "b9134cb4-6560-4caf-c52e-ede9e6a1897d"
      },
      "outputs": [
        {
          "output_type": "stream",
          "name": "stdout",
          "text": [
            "Enter the starting range:1\n",
            "Enter the end range: 200\n",
            "Prime numbers in the range 1 to 200\n",
            "1 2 3 5 7 11 13 17 19 23 29 31 37 41 43 47 53 59 61 67 71 73 79 83 89 97 101 103 107 109 113 127 131 137 139 149 151 157 163 167 173 179 181 191 193 197 199 "
          ]
        }
      ],
      "source": [
        "start = int (input(\"Enter the starting range:\"))\n",
        "end = int (input(\"Enter the end range: \"))\n",
        "\n",
        "print (\"Prime numbers in the range\", start, \"to\", end)\n",
        "\n",
        "for i in range(start, end+1):\n",
        "    flag = 0\n",
        "    for j in range(2, i):\n",
        "        if (i % j == 0):\n",
        "            flag = 1\n",
        "            break\n",
        "            \n",
        "    if (flag == 0):\n",
        "        print (i, end = ' ')"
      ]
    }
  ]
}